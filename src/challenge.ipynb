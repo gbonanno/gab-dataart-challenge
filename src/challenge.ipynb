{
  "nbformat": 4,
  "nbformat_minor": 0,
  "metadata": {
    "colab": {
      "provenance": [],
      "authorship_tag": "ABX9TyOlUQNaySlCR9BnaJrt2YL+",
      "include_colab_link": true
    },
    "kernelspec": {
      "name": "python3",
      "display_name": "Python 3"
    },
    "language_info": {
      "name": "python"
    }
  },
  "cells": [
    {
      "cell_type": "markdown",
      "metadata": {
        "id": "view-in-github",
        "colab_type": "text"
      },
      "source": [
        "<a href=\"https://colab.research.google.com/github/gbonanno/gab-dataart-challenge/blob/developer-gbonanno/src/challenge.ipynb\" target=\"_parent\"><img src=\"https://colab.research.google.com/assets/colab-badge.svg\" alt=\"Open In Colab\"/></a>"
      ]
    },
    {
      "cell_type": "markdown",
      "source": [
        "# Data Engineer Challenge"
      ],
      "metadata": {
        "id": "6tM2Mu6-H4qD"
      }
    },
    {
      "cell_type": "markdown",
      "source": [
        "## Imports y configuraciones iniciales\n",
        "\n",
        "Comenzamos instalando algunas bibliotecas y haciendo los imports necesarios para trabajar a continuación.  \n",
        "Además, se descarga el archivo y se declaran algunas variables que se utilizarán más adelante."
      ],
      "metadata": {
        "id": "W4a-gbaeQFSa"
      }
    },
    {
      "cell_type": "code",
      "source": [
        "pip install emoji"
      ],
      "metadata": {
        "colab": {
          "base_uri": "https://localhost:8080/"
        },
        "id": "rkA9bxYHFX0s",
        "outputId": "c683663c-f9f1-46ea-db20-5efd8c1e171d"
      },
      "execution_count": 1,
      "outputs": [
        {
          "output_type": "stream",
          "name": "stdout",
          "text": [
            "Collecting emoji\n",
            "  Downloading emoji-2.12.1-py3-none-any.whl (431 kB)\n",
            "\u001b[2K     \u001b[90m━━━━━━━━━━━━━━━━━━━━━━━━━━━━━━━━━━━━━━━━\u001b[0m \u001b[32m431.4/431.4 kB\u001b[0m \u001b[31m2.9 MB/s\u001b[0m eta \u001b[36m0:00:00\u001b[0m\n",
            "\u001b[?25hRequirement already satisfied: typing-extensions>=4.7.0 in /usr/local/lib/python3.10/dist-packages (from emoji) (4.11.0)\n",
            "Installing collected packages: emoji\n",
            "Successfully installed emoji-2.12.1\n"
          ]
        }
      ]
    },
    {
      "cell_type": "code",
      "source": [
        "pip install memory_profiler"
      ],
      "metadata": {
        "colab": {
          "base_uri": "https://localhost:8080/"
        },
        "id": "Egqox0VsLZKP",
        "outputId": "21f08f1c-9127-4c8f-eb70-98c6be9b8b5a"
      },
      "execution_count": 2,
      "outputs": [
        {
          "output_type": "stream",
          "name": "stdout",
          "text": [
            "Collecting memory_profiler\n",
            "  Downloading memory_profiler-0.61.0-py3-none-any.whl (31 kB)\n",
            "Requirement already satisfied: psutil in /usr/local/lib/python3.10/dist-packages (from memory_profiler) (5.9.5)\n",
            "Installing collected packages: memory_profiler\n",
            "Successfully installed memory_profiler-0.61.0\n"
          ]
        }
      ]
    },
    {
      "cell_type": "code",
      "execution_count": 3,
      "metadata": {
        "id": "GrFP34CgJQY4"
      },
      "outputs": [],
      "source": [
        "# Imports\n",
        "import pandas as pd\n",
        "import json\n",
        "import emoji\n",
        "import gdown\n",
        "import zipfile\n",
        "from collections import defaultdict, Counter\n",
        "import importlib.util\n",
        "import sys\n",
        "from memory_profiler import memory_usage\n",
        "import cProfile"
      ]
    },
    {
      "cell_type": "code",
      "source": [
        "# Se descarga el archivo de tweets desde su link en el Drive\n",
        "file_id = '1ig2ngoXFTxP5Pa8muXo02mDTFexZzsis'\n",
        "file_path_zip = 'farmers-protest-tweets-2021-2-4.json.zip'\n",
        "file_name = 'farmers-protest-tweets-2021-2-4.json'\n",
        "local_path = '.'\n",
        "full_path = local_path + '/' + file_name\n",
        "\n",
        "gdown.download(f'https://drive.google.com/uc?id={file_id}', file_path_zip, quiet=False)"
      ],
      "metadata": {
        "colab": {
          "base_uri": "https://localhost:8080/",
          "height": 145
        },
        "id": "VprFcJUdNy10",
        "outputId": "0688391a-4dc2-4315-dc26-4b4539133d4c"
      },
      "execution_count": 4,
      "outputs": [
        {
          "output_type": "stream",
          "name": "stderr",
          "text": [
            "Downloading...\n",
            "From (original): https://drive.google.com/uc?id=1ig2ngoXFTxP5Pa8muXo02mDTFexZzsis\n",
            "From (redirected): https://drive.google.com/uc?id=1ig2ngoXFTxP5Pa8muXo02mDTFexZzsis&confirm=t&uuid=9bf2c2be-6201-4585-91f4-0ce21779868c\n",
            "To: /content/farmers-protest-tweets-2021-2-4.json.zip\n",
            "100%|██████████| 60.4M/60.4M [00:01<00:00, 53.7MB/s]\n"
          ]
        },
        {
          "output_type": "execute_result",
          "data": {
            "text/plain": [
              "'farmers-protest-tweets-2021-2-4.json.zip'"
            ],
            "application/vnd.google.colaboratory.intrinsic+json": {
              "type": "string"
            }
          },
          "metadata": {},
          "execution_count": 4
        }
      ]
    },
    {
      "cell_type": "code",
      "source": [
        "# Como el archivo está comprimido en formato ZIP, es necesario descomprimirlo\n",
        "with zipfile.ZipFile(file_path_zip, 'r') as zip_ref:\n",
        "    zip_ref.extractall(local_path)"
      ],
      "metadata": {
        "id": "jvquO5M2O8rY"
      },
      "execution_count": 5,
      "outputs": []
    },
    {
      "cell_type": "markdown",
      "source": [
        "## Análisis del archivo\n",
        "\n",
        "El contenido y las acciones de esta sección no son necesarios para la entrega. Sin embargo, vamos a revisar un poco el contenido del archivo para poder trabajar luego con las funciones que sí fueron solicitadas."
      ],
      "metadata": {
        "id": "lUhe-5yQj9mp"
      }
    },
    {
      "cell_type": "code",
      "source": [
        "# Abrir el archivo\n",
        "fp = open(full_path, 'r+')"
      ],
      "metadata": {
        "id": "5jGr_HoJPTFm"
      },
      "execution_count": 6,
      "outputs": []
    },
    {
      "cell_type": "code",
      "source": [
        "# Se bajan los tweets\n",
        "# La lista tweets contiene el JSON completo de todos los tweets\n",
        "# El dataframe contiene solo los campos necesarios para las queries posteriores\n",
        "tweets = []\n",
        "dates = []\n",
        "users = []\n",
        "contents = []\n",
        "mentioned_users = []\n",
        "\n",
        "for line in fp:\n",
        "    line_json = json.loads(line)\n",
        "    tweets.append(line_json)\n",
        "\n",
        "    if line_json[\"mentionedUsers\"] is not None:\n",
        "        mentioned = ' | '.join(user[\"username\"] for user in line_json[\"mentionedUsers\"])\n",
        "    else:\n",
        "        mentioned = ''\n",
        "\n",
        "    dates.append(line_json[\"date\"])\n",
        "    users.append(line_json[\"user\"][\"username\"])\n",
        "    contents.append(line_json[\"content\"])\n",
        "    mentioned_users.append(mentioned)\n",
        "\n",
        "tweets_campos = pd.DataFrame({\n",
        "    'date': dates,\n",
        "    'user': users,\n",
        "    'content': contents,\n",
        "    'mentioned_users': mentioned_users\n",
        "})"
      ],
      "metadata": {
        "id": "X5jm3X9SkokT"
      },
      "execution_count": 7,
      "outputs": []
    },
    {
      "cell_type": "code",
      "source": [
        "# Visualizamos los campos descargados\n",
        "tweets_campos"
      ],
      "metadata": {
        "colab": {
          "base_uri": "https://localhost:8080/",
          "height": 424
        },
        "id": "nqM6dBLn_7Hz",
        "outputId": "d4f34c9e-a254-4e89-8a89-c28ee0380947"
      },
      "execution_count": 8,
      "outputs": [
        {
          "output_type": "execute_result",
          "data": {
            "text/plain": [
              "                             date             user  \\\n",
              "0       2021-02-24T09:23:35+00:00  ArjunSinghPanam   \n",
              "1       2021-02-24T09:23:32+00:00       PrdeepNain   \n",
              "2       2021-02-24T09:23:22+00:00   parmarmaninder   \n",
              "3       2021-02-24T09:23:16+00:00    anmoldhaliwal   \n",
              "4       2021-02-24T09:23:10+00:00       KotiaPreet   \n",
              "...                           ...              ...   \n",
              "117402  2021-02-12T01:37:02+00:00    rickyrickstir   \n",
              "117403  2021-02-12T01:36:53+00:00        PunjabTak   \n",
              "117404  2021-02-12T01:36:50+00:00         ish_kayy   \n",
              "117405  2021-02-12T01:36:49+00:00   TV9Bharatvarsh   \n",
              "117406  2021-02-12T01:36:49+00:00        SikhVibes   \n",
              "\n",
              "                                                  content  \\\n",
              "0       The world progresses while the Indian police a...   \n",
              "1       #FarmersProtest \\n#ModiIgnoringFarmersDeaths \\...   \n",
              "2       ਪੈਟਰੋਲ ਦੀਆਂ ਕੀਮਤਾਂ ਨੂੰ ਮੱਦੇਨਜ਼ਰ ਰੱਖਦੇ ਹੋਏ \\nਮੇ...   \n",
              "3       @ReallySwara @rohini_sgh watch full video here...   \n",
              "4       #KisanEktaMorcha #FarmersProtest #NoFarmersNoF...   \n",
              "...                                                   ...   \n",
              "117402  #FarmersProtest #KisanAndolan #KisaanMajdoorEk...   \n",
              "117403  PM मोदी की अपील के बीच संयुक्त किसान मोर्चा का...   \n",
              "117404  United we stand.\\nDivided we fall\\n#Mahapancha...   \n",
              "117405  सिंघु बॉर्डर पर लंबी लड़ाई की तैयारी, किसानों ...   \n",
              "117406  @Kisanektamorcha We are with you, keep the mor...   \n",
              "\n",
              "                   mentioned_users  \n",
              "0       narendramodi | DelhiPolice  \n",
              "1                  Kisanektamorcha  \n",
              "2                                   \n",
              "3         ReallySwara | rohini_sgh  \n",
              "4                                   \n",
              "...                            ...  \n",
              "117402                              \n",
              "117403                              \n",
              "117404                              \n",
              "117405                              \n",
              "117406             Kisanektamorcha  \n",
              "\n",
              "[117407 rows x 4 columns]"
            ],
            "text/html": [
              "\n",
              "  <div id=\"df-340a0389-4a29-4593-a25b-c318e0f6aa10\" class=\"colab-df-container\">\n",
              "    <div>\n",
              "<style scoped>\n",
              "    .dataframe tbody tr th:only-of-type {\n",
              "        vertical-align: middle;\n",
              "    }\n",
              "\n",
              "    .dataframe tbody tr th {\n",
              "        vertical-align: top;\n",
              "    }\n",
              "\n",
              "    .dataframe thead th {\n",
              "        text-align: right;\n",
              "    }\n",
              "</style>\n",
              "<table border=\"1\" class=\"dataframe\">\n",
              "  <thead>\n",
              "    <tr style=\"text-align: right;\">\n",
              "      <th></th>\n",
              "      <th>date</th>\n",
              "      <th>user</th>\n",
              "      <th>content</th>\n",
              "      <th>mentioned_users</th>\n",
              "    </tr>\n",
              "  </thead>\n",
              "  <tbody>\n",
              "    <tr>\n",
              "      <th>0</th>\n",
              "      <td>2021-02-24T09:23:35+00:00</td>\n",
              "      <td>ArjunSinghPanam</td>\n",
              "      <td>The world progresses while the Indian police a...</td>\n",
              "      <td>narendramodi | DelhiPolice</td>\n",
              "    </tr>\n",
              "    <tr>\n",
              "      <th>1</th>\n",
              "      <td>2021-02-24T09:23:32+00:00</td>\n",
              "      <td>PrdeepNain</td>\n",
              "      <td>#FarmersProtest \\n#ModiIgnoringFarmersDeaths \\...</td>\n",
              "      <td>Kisanektamorcha</td>\n",
              "    </tr>\n",
              "    <tr>\n",
              "      <th>2</th>\n",
              "      <td>2021-02-24T09:23:22+00:00</td>\n",
              "      <td>parmarmaninder</td>\n",
              "      <td>ਪੈਟਰੋਲ ਦੀਆਂ ਕੀਮਤਾਂ ਨੂੰ ਮੱਦੇਨਜ਼ਰ ਰੱਖਦੇ ਹੋਏ \\nਮੇ...</td>\n",
              "      <td></td>\n",
              "    </tr>\n",
              "    <tr>\n",
              "      <th>3</th>\n",
              "      <td>2021-02-24T09:23:16+00:00</td>\n",
              "      <td>anmoldhaliwal</td>\n",
              "      <td>@ReallySwara @rohini_sgh watch full video here...</td>\n",
              "      <td>ReallySwara | rohini_sgh</td>\n",
              "    </tr>\n",
              "    <tr>\n",
              "      <th>4</th>\n",
              "      <td>2021-02-24T09:23:10+00:00</td>\n",
              "      <td>KotiaPreet</td>\n",
              "      <td>#KisanEktaMorcha #FarmersProtest #NoFarmersNoF...</td>\n",
              "      <td></td>\n",
              "    </tr>\n",
              "    <tr>\n",
              "      <th>...</th>\n",
              "      <td>...</td>\n",
              "      <td>...</td>\n",
              "      <td>...</td>\n",
              "      <td>...</td>\n",
              "    </tr>\n",
              "    <tr>\n",
              "      <th>117402</th>\n",
              "      <td>2021-02-12T01:37:02+00:00</td>\n",
              "      <td>rickyrickstir</td>\n",
              "      <td>#FarmersProtest #KisanAndolan #KisaanMajdoorEk...</td>\n",
              "      <td></td>\n",
              "    </tr>\n",
              "    <tr>\n",
              "      <th>117403</th>\n",
              "      <td>2021-02-12T01:36:53+00:00</td>\n",
              "      <td>PunjabTak</td>\n",
              "      <td>PM मोदी की अपील के बीच संयुक्त किसान मोर्चा का...</td>\n",
              "      <td></td>\n",
              "    </tr>\n",
              "    <tr>\n",
              "      <th>117404</th>\n",
              "      <td>2021-02-12T01:36:50+00:00</td>\n",
              "      <td>ish_kayy</td>\n",
              "      <td>United we stand.\\nDivided we fall\\n#Mahapancha...</td>\n",
              "      <td></td>\n",
              "    </tr>\n",
              "    <tr>\n",
              "      <th>117405</th>\n",
              "      <td>2021-02-12T01:36:49+00:00</td>\n",
              "      <td>TV9Bharatvarsh</td>\n",
              "      <td>सिंघु बॉर्डर पर लंबी लड़ाई की तैयारी, किसानों ...</td>\n",
              "      <td></td>\n",
              "    </tr>\n",
              "    <tr>\n",
              "      <th>117406</th>\n",
              "      <td>2021-02-12T01:36:49+00:00</td>\n",
              "      <td>SikhVibes</td>\n",
              "      <td>@Kisanektamorcha We are with you, keep the mor...</td>\n",
              "      <td>Kisanektamorcha</td>\n",
              "    </tr>\n",
              "  </tbody>\n",
              "</table>\n",
              "<p>117407 rows × 4 columns</p>\n",
              "</div>\n",
              "    <div class=\"colab-df-buttons\">\n",
              "\n",
              "  <div class=\"colab-df-container\">\n",
              "    <button class=\"colab-df-convert\" onclick=\"convertToInteractive('df-340a0389-4a29-4593-a25b-c318e0f6aa10')\"\n",
              "            title=\"Convert this dataframe to an interactive table.\"\n",
              "            style=\"display:none;\">\n",
              "\n",
              "  <svg xmlns=\"http://www.w3.org/2000/svg\" height=\"24px\" viewBox=\"0 -960 960 960\">\n",
              "    <path d=\"M120-120v-720h720v720H120Zm60-500h600v-160H180v160Zm220 220h160v-160H400v160Zm0 220h160v-160H400v160ZM180-400h160v-160H180v160Zm440 0h160v-160H620v160ZM180-180h160v-160H180v160Zm440 0h160v-160H620v160Z\"/>\n",
              "  </svg>\n",
              "    </button>\n",
              "\n",
              "  <style>\n",
              "    .colab-df-container {\n",
              "      display:flex;\n",
              "      gap: 12px;\n",
              "    }\n",
              "\n",
              "    .colab-df-convert {\n",
              "      background-color: #E8F0FE;\n",
              "      border: none;\n",
              "      border-radius: 50%;\n",
              "      cursor: pointer;\n",
              "      display: none;\n",
              "      fill: #1967D2;\n",
              "      height: 32px;\n",
              "      padding: 0 0 0 0;\n",
              "      width: 32px;\n",
              "    }\n",
              "\n",
              "    .colab-df-convert:hover {\n",
              "      background-color: #E2EBFA;\n",
              "      box-shadow: 0px 1px 2px rgba(60, 64, 67, 0.3), 0px 1px 3px 1px rgba(60, 64, 67, 0.15);\n",
              "      fill: #174EA6;\n",
              "    }\n",
              "\n",
              "    .colab-df-buttons div {\n",
              "      margin-bottom: 4px;\n",
              "    }\n",
              "\n",
              "    [theme=dark] .colab-df-convert {\n",
              "      background-color: #3B4455;\n",
              "      fill: #D2E3FC;\n",
              "    }\n",
              "\n",
              "    [theme=dark] .colab-df-convert:hover {\n",
              "      background-color: #434B5C;\n",
              "      box-shadow: 0px 1px 3px 1px rgba(0, 0, 0, 0.15);\n",
              "      filter: drop-shadow(0px 1px 2px rgba(0, 0, 0, 0.3));\n",
              "      fill: #FFFFFF;\n",
              "    }\n",
              "  </style>\n",
              "\n",
              "    <script>\n",
              "      const buttonEl =\n",
              "        document.querySelector('#df-340a0389-4a29-4593-a25b-c318e0f6aa10 button.colab-df-convert');\n",
              "      buttonEl.style.display =\n",
              "        google.colab.kernel.accessAllowed ? 'block' : 'none';\n",
              "\n",
              "      async function convertToInteractive(key) {\n",
              "        const element = document.querySelector('#df-340a0389-4a29-4593-a25b-c318e0f6aa10');\n",
              "        const dataTable =\n",
              "          await google.colab.kernel.invokeFunction('convertToInteractive',\n",
              "                                                    [key], {});\n",
              "        if (!dataTable) return;\n",
              "\n",
              "        const docLinkHtml = 'Like what you see? Visit the ' +\n",
              "          '<a target=\"_blank\" href=https://colab.research.google.com/notebooks/data_table.ipynb>data table notebook</a>'\n",
              "          + ' to learn more about interactive tables.';\n",
              "        element.innerHTML = '';\n",
              "        dataTable['output_type'] = 'display_data';\n",
              "        await google.colab.output.renderOutput(dataTable, element);\n",
              "        const docLink = document.createElement('div');\n",
              "        docLink.innerHTML = docLinkHtml;\n",
              "        element.appendChild(docLink);\n",
              "      }\n",
              "    </script>\n",
              "  </div>\n",
              "\n",
              "\n",
              "<div id=\"df-fce5b5e5-d556-44f4-9fcc-b63728e95d34\">\n",
              "  <button class=\"colab-df-quickchart\" onclick=\"quickchart('df-fce5b5e5-d556-44f4-9fcc-b63728e95d34')\"\n",
              "            title=\"Suggest charts\"\n",
              "            style=\"display:none;\">\n",
              "\n",
              "<svg xmlns=\"http://www.w3.org/2000/svg\" height=\"24px\"viewBox=\"0 0 24 24\"\n",
              "     width=\"24px\">\n",
              "    <g>\n",
              "        <path d=\"M19 3H5c-1.1 0-2 .9-2 2v14c0 1.1.9 2 2 2h14c1.1 0 2-.9 2-2V5c0-1.1-.9-2-2-2zM9 17H7v-7h2v7zm4 0h-2V7h2v10zm4 0h-2v-4h2v4z\"/>\n",
              "    </g>\n",
              "</svg>\n",
              "  </button>\n",
              "\n",
              "<style>\n",
              "  .colab-df-quickchart {\n",
              "      --bg-color: #E8F0FE;\n",
              "      --fill-color: #1967D2;\n",
              "      --hover-bg-color: #E2EBFA;\n",
              "      --hover-fill-color: #174EA6;\n",
              "      --disabled-fill-color: #AAA;\n",
              "      --disabled-bg-color: #DDD;\n",
              "  }\n",
              "\n",
              "  [theme=dark] .colab-df-quickchart {\n",
              "      --bg-color: #3B4455;\n",
              "      --fill-color: #D2E3FC;\n",
              "      --hover-bg-color: #434B5C;\n",
              "      --hover-fill-color: #FFFFFF;\n",
              "      --disabled-bg-color: #3B4455;\n",
              "      --disabled-fill-color: #666;\n",
              "  }\n",
              "\n",
              "  .colab-df-quickchart {\n",
              "    background-color: var(--bg-color);\n",
              "    border: none;\n",
              "    border-radius: 50%;\n",
              "    cursor: pointer;\n",
              "    display: none;\n",
              "    fill: var(--fill-color);\n",
              "    height: 32px;\n",
              "    padding: 0;\n",
              "    width: 32px;\n",
              "  }\n",
              "\n",
              "  .colab-df-quickchart:hover {\n",
              "    background-color: var(--hover-bg-color);\n",
              "    box-shadow: 0 1px 2px rgba(60, 64, 67, 0.3), 0 1px 3px 1px rgba(60, 64, 67, 0.15);\n",
              "    fill: var(--button-hover-fill-color);\n",
              "  }\n",
              "\n",
              "  .colab-df-quickchart-complete:disabled,\n",
              "  .colab-df-quickchart-complete:disabled:hover {\n",
              "    background-color: var(--disabled-bg-color);\n",
              "    fill: var(--disabled-fill-color);\n",
              "    box-shadow: none;\n",
              "  }\n",
              "\n",
              "  .colab-df-spinner {\n",
              "    border: 2px solid var(--fill-color);\n",
              "    border-color: transparent;\n",
              "    border-bottom-color: var(--fill-color);\n",
              "    animation:\n",
              "      spin 1s steps(1) infinite;\n",
              "  }\n",
              "\n",
              "  @keyframes spin {\n",
              "    0% {\n",
              "      border-color: transparent;\n",
              "      border-bottom-color: var(--fill-color);\n",
              "      border-left-color: var(--fill-color);\n",
              "    }\n",
              "    20% {\n",
              "      border-color: transparent;\n",
              "      border-left-color: var(--fill-color);\n",
              "      border-top-color: var(--fill-color);\n",
              "    }\n",
              "    30% {\n",
              "      border-color: transparent;\n",
              "      border-left-color: var(--fill-color);\n",
              "      border-top-color: var(--fill-color);\n",
              "      border-right-color: var(--fill-color);\n",
              "    }\n",
              "    40% {\n",
              "      border-color: transparent;\n",
              "      border-right-color: var(--fill-color);\n",
              "      border-top-color: var(--fill-color);\n",
              "    }\n",
              "    60% {\n",
              "      border-color: transparent;\n",
              "      border-right-color: var(--fill-color);\n",
              "    }\n",
              "    80% {\n",
              "      border-color: transparent;\n",
              "      border-right-color: var(--fill-color);\n",
              "      border-bottom-color: var(--fill-color);\n",
              "    }\n",
              "    90% {\n",
              "      border-color: transparent;\n",
              "      border-bottom-color: var(--fill-color);\n",
              "    }\n",
              "  }\n",
              "</style>\n",
              "\n",
              "  <script>\n",
              "    async function quickchart(key) {\n",
              "      const quickchartButtonEl =\n",
              "        document.querySelector('#' + key + ' button');\n",
              "      quickchartButtonEl.disabled = true;  // To prevent multiple clicks.\n",
              "      quickchartButtonEl.classList.add('colab-df-spinner');\n",
              "      try {\n",
              "        const charts = await google.colab.kernel.invokeFunction(\n",
              "            'suggestCharts', [key], {});\n",
              "      } catch (error) {\n",
              "        console.error('Error during call to suggestCharts:', error);\n",
              "      }\n",
              "      quickchartButtonEl.classList.remove('colab-df-spinner');\n",
              "      quickchartButtonEl.classList.add('colab-df-quickchart-complete');\n",
              "    }\n",
              "    (() => {\n",
              "      let quickchartButtonEl =\n",
              "        document.querySelector('#df-fce5b5e5-d556-44f4-9fcc-b63728e95d34 button');\n",
              "      quickchartButtonEl.style.display =\n",
              "        google.colab.kernel.accessAllowed ? 'block' : 'none';\n",
              "    })();\n",
              "  </script>\n",
              "</div>\n",
              "\n",
              "  <div id=\"id_3129b72c-a513-4808-9f62-3b145e070aa7\">\n",
              "    <style>\n",
              "      .colab-df-generate {\n",
              "        background-color: #E8F0FE;\n",
              "        border: none;\n",
              "        border-radius: 50%;\n",
              "        cursor: pointer;\n",
              "        display: none;\n",
              "        fill: #1967D2;\n",
              "        height: 32px;\n",
              "        padding: 0 0 0 0;\n",
              "        width: 32px;\n",
              "      }\n",
              "\n",
              "      .colab-df-generate:hover {\n",
              "        background-color: #E2EBFA;\n",
              "        box-shadow: 0px 1px 2px rgba(60, 64, 67, 0.3), 0px 1px 3px 1px rgba(60, 64, 67, 0.15);\n",
              "        fill: #174EA6;\n",
              "      }\n",
              "\n",
              "      [theme=dark] .colab-df-generate {\n",
              "        background-color: #3B4455;\n",
              "        fill: #D2E3FC;\n",
              "      }\n",
              "\n",
              "      [theme=dark] .colab-df-generate:hover {\n",
              "        background-color: #434B5C;\n",
              "        box-shadow: 0px 1px 3px 1px rgba(0, 0, 0, 0.15);\n",
              "        filter: drop-shadow(0px 1px 2px rgba(0, 0, 0, 0.3));\n",
              "        fill: #FFFFFF;\n",
              "      }\n",
              "    </style>\n",
              "    <button class=\"colab-df-generate\" onclick=\"generateWithVariable('tweets_campos')\"\n",
              "            title=\"Generate code using this dataframe.\"\n",
              "            style=\"display:none;\">\n",
              "\n",
              "  <svg xmlns=\"http://www.w3.org/2000/svg\" height=\"24px\"viewBox=\"0 0 24 24\"\n",
              "       width=\"24px\">\n",
              "    <path d=\"M7,19H8.4L18.45,9,17,7.55,7,17.6ZM5,21V16.75L18.45,3.32a2,2,0,0,1,2.83,0l1.4,1.43a1.91,1.91,0,0,1,.58,1.4,1.91,1.91,0,0,1-.58,1.4L9.25,21ZM18.45,9,17,7.55Zm-12,3A5.31,5.31,0,0,0,4.9,8.1,5.31,5.31,0,0,0,1,6.5,5.31,5.31,0,0,0,4.9,4.9,5.31,5.31,0,0,0,6.5,1,5.31,5.31,0,0,0,8.1,4.9,5.31,5.31,0,0,0,12,6.5,5.46,5.46,0,0,0,6.5,12Z\"/>\n",
              "  </svg>\n",
              "    </button>\n",
              "    <script>\n",
              "      (() => {\n",
              "      const buttonEl =\n",
              "        document.querySelector('#id_3129b72c-a513-4808-9f62-3b145e070aa7 button.colab-df-generate');\n",
              "      buttonEl.style.display =\n",
              "        google.colab.kernel.accessAllowed ? 'block' : 'none';\n",
              "\n",
              "      buttonEl.onclick = () => {\n",
              "        google.colab.notebook.generateWithVariable('tweets_campos');\n",
              "      }\n",
              "      })();\n",
              "    </script>\n",
              "  </div>\n",
              "\n",
              "    </div>\n",
              "  </div>\n"
            ],
            "application/vnd.google.colaboratory.intrinsic+json": {
              "type": "dataframe",
              "variable_name": "tweets_campos"
            }
          },
          "metadata": {},
          "execution_count": 8
        }
      ]
    },
    {
      "cell_type": "code",
      "source": [
        "# Imprimimos un tweet para revisar su formato\n",
        "print(json.dumps(line_json, indent=4))"
      ],
      "metadata": {
        "colab": {
          "base_uri": "https://localhost:8080/"
        },
        "id": "QAWUpAaJbazO",
        "outputId": "6b3c6d14-edfe-47e5-9ddf-31e34e500832"
      },
      "execution_count": 9,
      "outputs": [
        {
          "output_type": "stream",
          "name": "stdout",
          "text": [
            "{\n",
            "    \"url\": \"https://twitter.com/SikhVibes/status/1360040127146430470\",\n",
            "    \"date\": \"2021-02-12T01:36:49+00:00\",\n",
            "    \"content\": \"@Kisanektamorcha We are with you, keep the morcha alive and strong \\ud83d\\udcaa #FarmersProtest #MahapanchayatRevolution\",\n",
            "    \"renderedContent\": \"@Kisanektamorcha We are with you, keep the morcha alive and strong \\ud83d\\udcaa #FarmersProtest #MahapanchayatRevolution\",\n",
            "    \"id\": 1360040127146430470,\n",
            "    \"user\": {\n",
            "        \"username\": \"SikhVibes\",\n",
            "        \"displayname\": \"SikhVibes\",\n",
            "        \"id\": 1568618503,\n",
            "        \"description\": \"SikhVibes.com is a premium Sikh Multimedia website with thousands of rare Audio Recordings, Videos and Katha from all over the world!\",\n",
            "        \"rawDescription\": \"https://t.co/YWcGuzCBWn is a premium Sikh Multimedia website with thousands of rare Audio Recordings, Videos and Katha from all over the world!\",\n",
            "        \"descriptionUrls\": [\n",
            "            {\n",
            "                \"text\": \"SikhVibes.com\",\n",
            "                \"url\": \"http://SikhVibes.com\",\n",
            "                \"tcourl\": \"https://t.co/YWcGuzCBWn\",\n",
            "                \"indices\": [\n",
            "                    0,\n",
            "                    23\n",
            "                ]\n",
            "            }\n",
            "        ],\n",
            "        \"verified\": false,\n",
            "        \"created\": \"2013-07-04T16:50:42+00:00\",\n",
            "        \"followersCount\": 853,\n",
            "        \"friendsCount\": 390,\n",
            "        \"statusesCount\": 1090,\n",
            "        \"favouritesCount\": 764,\n",
            "        \"listedCount\": 2,\n",
            "        \"mediaCount\": 442,\n",
            "        \"location\": \"Toronto, Canada\",\n",
            "        \"protected\": false,\n",
            "        \"linkUrl\": \"https://linktr.ee/SikhVibes\",\n",
            "        \"linkTcourl\": \"https://t.co/3Vm6WLfyYP\",\n",
            "        \"profileImageUrl\": \"https://pbs.twimg.com/profile_images/1311151305008787456/-JHIizir_normal.jpg\",\n",
            "        \"profileBannerUrl\": \"https://pbs.twimg.com/profile_banners/1568618503/1612464423\",\n",
            "        \"url\": \"https://twitter.com/SikhVibes\"\n",
            "    },\n",
            "    \"outlinks\": [],\n",
            "    \"tcooutlinks\": [],\n",
            "    \"replyCount\": 2,\n",
            "    \"retweetCount\": 19,\n",
            "    \"likeCount\": 23,\n",
            "    \"quoteCount\": 2,\n",
            "    \"conversationId\": 1360038291471388672,\n",
            "    \"lang\": \"en\",\n",
            "    \"source\": \"<a href=\\\"http://twitter.com/download/iphone\\\" rel=\\\"nofollow\\\">Twitter for iPhone</a>\",\n",
            "    \"sourceUrl\": \"http://twitter.com/download/iphone\",\n",
            "    \"sourceLabel\": \"Twitter for iPhone\",\n",
            "    \"media\": null,\n",
            "    \"retweetedTweet\": null,\n",
            "    \"quotedTweet\": null,\n",
            "    \"mentionedUsers\": [\n",
            "        {\n",
            "            \"username\": \"Kisanektamorcha\",\n",
            "            \"displayname\": \"Kisan Ekta Morcha\",\n",
            "            \"id\": 1338536920066879488,\n",
            "            \"description\": null,\n",
            "            \"rawDescription\": null,\n",
            "            \"descriptionUrls\": null,\n",
            "            \"verified\": null,\n",
            "            \"created\": null,\n",
            "            \"followersCount\": null,\n",
            "            \"friendsCount\": null,\n",
            "            \"statusesCount\": null,\n",
            "            \"favouritesCount\": null,\n",
            "            \"listedCount\": null,\n",
            "            \"mediaCount\": null,\n",
            "            \"location\": null,\n",
            "            \"protected\": null,\n",
            "            \"linkUrl\": null,\n",
            "            \"linkTcourl\": null,\n",
            "            \"profileImageUrl\": null,\n",
            "            \"profileBannerUrl\": null,\n",
            "            \"url\": \"https://twitter.com/Kisanektamorcha\"\n",
            "        }\n",
            "    ]\n",
            "}\n"
          ]
        }
      ]
    },
    {
      "cell_type": "markdown",
      "source": [
        "## Descargar funciones de GitHub\n",
        "\n",
        "Se descargan las versiones de las funciones que se encuentran en el repositorio de GitHub para poder invocarlas posteriormente."
      ],
      "metadata": {
        "id": "OA1uquFqjudr"
      }
    },
    {
      "cell_type": "code",
      "source": [
        "# Descargar las funciones desde GitHub\n",
        "!git clone https://github.com/gbonanno/gab-dataart-challenge.git"
      ],
      "metadata": {
        "colab": {
          "base_uri": "https://localhost:8080/"
        },
        "id": "cviYTw2nGMcJ",
        "outputId": "b1acdd41-7433-41c6-aa24-e389266c41d8"
      },
      "execution_count": 10,
      "outputs": [
        {
          "output_type": "stream",
          "name": "stdout",
          "text": [
            "Cloning into 'gab-dataart-challenge'...\n",
            "remote: Enumerating objects: 57, done.\u001b[K\n",
            "remote: Counting objects: 100% (57/57), done.\u001b[K\n",
            "remote: Compressing objects: 100% (56/56), done.\u001b[K\n",
            "remote: Total 57 (delta 34), reused 0 (delta 0), pack-reused 0\u001b[K\n",
            "Receiving objects: 100% (57/57), 584.83 KiB | 3.23 MiB/s, done.\n",
            "Resolving deltas: 100% (34/34), done.\n"
          ]
        }
      ]
    },
    {
      "cell_type": "code",
      "source": [
        "# Leer las funciones y ejecutarlas\n",
        "# ENHANCEMENT: esta sección realiza varias tareas que se repiten por cada función. Se podría mejorar creando algunas funciones auxiliares.\n",
        "module_path = './gab-dataart-challenge/src/'\n",
        "module_name1 = 'q1_memory'\n",
        "module_name2 = 'q1_time'\n",
        "module_name3 = 'q2_memory'\n",
        "module_name4 = 'q2_time'\n",
        "module_name5 = 'q3_memory'\n",
        "module_name6 = 'q3_time'\n",
        "\n",
        "# Cargar módulos\n",
        "spec_q1_memory = importlib.util.spec_from_file_location(module_name1, module_path + module_name1 + '.py')\n",
        "module_q1_memory = importlib.util.module_from_spec(spec_q1_memory)\n",
        "sys.modules[module_name1] = module_q1_memory\n",
        "spec_q1_memory.loader.exec_module(module_q1_memory)\n",
        "\n",
        "spec_q1_time = importlib.util.spec_from_file_location(module_name2, module_path + module_name2 + '.py')\n",
        "module_q1_time = importlib.util.module_from_spec(spec_q1_time)\n",
        "sys.modules[module_name2] = module_q1_time\n",
        "spec_q1_time.loader.exec_module(module_q1_time)\n",
        "\n",
        "spec_q2_memory = importlib.util.spec_from_file_location(module_name3, module_path + module_name3 + '.py')\n",
        "module_q2_memory = importlib.util.module_from_spec(spec_q2_memory)\n",
        "sys.modules[module_name3] = module_q2_memory\n",
        "spec_q2_memory.loader.exec_module(module_q2_memory)\n",
        "\n",
        "spec_q2_time = importlib.util.spec_from_file_location(module_name4, module_path + module_name4 + '.py')\n",
        "module_q2_time = importlib.util.module_from_spec(spec_q2_time)\n",
        "sys.modules[module_name4] = module_q2_time\n",
        "spec_q2_time.loader.exec_module(module_q2_time)\n",
        "\n",
        "spec_q3_memory = importlib.util.spec_from_file_location(module_name5, module_path + module_name5 + '.py')\n",
        "module_q3_memory = importlib.util.module_from_spec(spec_q3_memory)\n",
        "sys.modules[module_name5] = module_q3_memory\n",
        "spec_q3_memory.loader.exec_module(module_q3_memory)\n",
        "\n",
        "spec_q3_time = importlib.util.spec_from_file_location(module_name6, module_path + module_name6 + '.py')\n",
        "module_q3_time = importlib.util.module_from_spec(spec_q3_time)\n",
        "sys.modules[module_name6] = module_q3_time\n",
        "spec_q3_time.loader.exec_module(module_q3_time)\n",
        "\n",
        "# Cargar las funciones desde los módulos\n",
        "q1_memory = module_q1_memory.q1_memory\n",
        "q1_time = module_q1_time.q1_time\n",
        "q2_memory = module_q2_memory.q2_memory\n",
        "q2_time = module_q2_time.q2_time\n",
        "q3_memory = module_q3_memory.q3_memory\n",
        "q3_time = module_q3_time.q3_time"
      ],
      "metadata": {
        "id": "JyB_Qo76eclB"
      },
      "execution_count": 11,
      "outputs": []
    },
    {
      "cell_type": "markdown",
      "source": [
        "## Mediciones de memoria y tiempo"
      ],
      "metadata": {
        "id": "4KCCwMHqpfK7"
      }
    },
    {
      "cell_type": "markdown",
      "source": [
        "### Query 1: top 10 de fechas y usuarios"
      ],
      "metadata": {
        "id": "vk3lWh3Dp1hc"
      }
    },
    {
      "cell_type": "code",
      "source": [
        "# Medimos el uso de memoria de la función.\n",
        "mem_usage = memory_usage((q1_memory, (local_path + '/' + file_name,)))\n",
        "print(f\"Uso de memoria: {mem_usage}\")"
      ],
      "metadata": {
        "colab": {
          "base_uri": "https://localhost:8080/"
        },
        "id": "kfzvfPh4Kykc",
        "outputId": "19f8054f-265d-4260-9653-fb1ec9de70f5"
      },
      "execution_count": 12,
      "outputs": [
        {
          "output_type": "stream",
          "name": "stdout",
          "text": [
            "Uso de memoria: [1348.32421875, 1348.51953125, 1349.1015625, 1350.0859375, 1350.8203125, 1351.63671875, 1352.55859375, 1353.18359375, 1353.80859375, 1354.48828125, 1355.046875, 1355.9140625, 1356.6171875, 1357.34375, 1357.8125, 1358.63671875, 1359.390625, 1360.28125, 1361.28125, 1362.00390625, 1362.78515625, 1363.39453125, 1364.34765625, 1365.12109375, 1365.89453125, 1366.5390625, 1367.4140625, 1367.94921875, 1368.68359375, 1369.29296875, 1369.984375, 1370.67578125, 1371.55078125, 1372.6015625, 1373.24609375, 1373.890625, 1374.83203125, 1375.5546875, 1376.2734375, 1376.7421875, 1377.46875, 1377.9453125, 1378.8203125, 1379.52734375, 1380.1875, 1380.76171875, 1381.70703125, 1382.3046875, 1382.9375, 1383.80859375, 1384.3203125, 1384.73046875, 1385.5859375, 1386.35546875, 1387.12109375, 1387.88671875, 1388.48828125, 1388.71875, 1388.93359375, 1389.15625, 1389.6328125, 1390.140625, 1390.94140625, 1391.765625, 1392.01953125, 1394.0390625, 1396.484375, 1410.0546875, 1411.6015625, 1411.6015625, 1396.89453125, 1403.0859375, 1409.16015625, 1382.28125]\n"
          ]
        }
      ]
    },
    {
      "cell_type": "code",
      "source": [
        "# Medimos el uso de memoria de la función.\n",
        "mem_usage = memory_usage((q1_time, (local_path + '/' + file_name,)))\n",
        "print(f\"Uso de memoria: {mem_usage}\")"
      ],
      "metadata": {
        "colab": {
          "base_uri": "https://localhost:8080/"
        },
        "id": "4dSS7LHsK1M0",
        "outputId": "826cc3f3-d065-479b-d1a7-58ae97eef9f0"
      },
      "execution_count": 13,
      "outputs": [
        {
          "output_type": "stream",
          "name": "stdout",
          "text": [
            "Uso de memoria: [1377.5703125, 1377.59375, 1370.2421875, 1370.41796875, 1370.41796875, 1370.41796875, 1370.4296875, 1370.54296875, 1370.703125, 1370.703125, 1370.703125, 1370.703125, 1370.83203125, 1370.83203125, 1370.83203125, 1370.83203125, 1370.83203125, 1370.83203125, 1370.83203125, 1370.83203125, 1370.83203125, 1370.83203125, 1370.83203125, 1370.83203125, 1370.83203125, 1370.83203125, 1370.83203125, 1370.83203125, 1370.83203125, 1370.83203125, 1370.83203125, 1370.83203125, 1370.83203125, 1370.83203125, 1370.83203125, 1370.83203125, 1370.91015625, 1371.4609375, 1371.86328125, 1372.55859375, 1373.13671875, 1373.640625, 1374.0859375, 1374.75390625, 1375.35546875, 1375.81640625, 1376.41015625, 1376.78515625, 1377.4375, 1377.9140625, 1378.35546875, 1379.0546875, 1379.55078125, 1380.05859375, 1380.75, 1381.22265625, 1381.7265625, 1382.1328125, 1382.83203125, 1383.46484375, 1384.02734375, 1384.46875, 1384.9453125, 1385.6171875, 1386.14453125, 1386.70703125, 1387.26171875, 1387.73828125, 1388.2109375, 1388.80859375, 1389.3125, 1390.0, 1390.49609375, 1391.12109375, 1391.609375, 1392.08203125, 1392.52734375, 1393.0, 1393.7578125, 1394.48046875, 1395.37890625, 1397.0546875, 1397.05859375, 1403.31640625, 1414.27734375, 1414.27734375, 1414.4296875, 1418.8203125, 1409.7578125, 1407.828125, 1394.046875]\n"
          ]
        }
      ]
    },
    {
      "cell_type": "code",
      "source": [
        "# Medimos el tiempo de ejecución de la función.\n",
        "profiler = cProfile.Profile()\n",
        "\n",
        "profiler.enable()\n",
        "q1_memory(local_path + '/' + file_name)\n",
        "profiler.disable()\n",
        "\n",
        "stats = profiler.getstats()\n",
        "total_time = sum(stat.totaltime for stat in stats)\n",
        "print(\"Tiempo total:\", total_time)"
      ],
      "metadata": {
        "colab": {
          "base_uri": "https://localhost:8080/"
        },
        "id": "LXJ_gtz6Kh89",
        "outputId": "b5271e3e-cf49-4230-ee4f-8ba4a2b274b7"
      },
      "execution_count": 14,
      "outputs": [
        {
          "output_type": "stream",
          "name": "stdout",
          "text": [
            "Tiempo total: 70.98875899200004\n"
          ]
        }
      ]
    },
    {
      "cell_type": "code",
      "source": [
        "# Medimos el tiempo de ejecución de la función.\n",
        "profiler = cProfile.Profile()\n",
        "\n",
        "profiler.enable()\n",
        "q1_time(local_path + '/' + file_name)\n",
        "profiler.disable()\n",
        "\n",
        "stats = profiler.getstats()\n",
        "total_time = sum(stat.totaltime for stat in stats)\n",
        "print(\"Tiempo total:\", total_time)"
      ],
      "metadata": {
        "colab": {
          "base_uri": "https://localhost:8080/"
        },
        "id": "0FWbC54MK3tv",
        "outputId": "231faf20-5bac-4fbf-e215-c6dcdb8f254b"
      },
      "execution_count": 15,
      "outputs": [
        {
          "output_type": "stream",
          "name": "stdout",
          "text": [
            "Tiempo total: 61.86381752900009\n"
          ]
        }
      ]
    },
    {
      "cell_type": "markdown",
      "source": [
        "### Query 2: top 10 de emojis"
      ],
      "metadata": {
        "id": "8Z8ncvdDqaj6"
      }
    },
    {
      "cell_type": "code",
      "source": [
        "# Medimos el uso de memoria de la función.\n",
        "mem_usage = memory_usage((q2_memory, (local_path + '/' + file_name,)))\n",
        "print(f\"Uso de memoria: {mem_usage}\")"
      ],
      "metadata": {
        "colab": {
          "base_uri": "https://localhost:8080/"
        },
        "outputId": "ffcf925d-1b1b-49f3-c2e0-39784a0a0b96",
        "id": "AZgloMP2qakI"
      },
      "execution_count": 16,
      "outputs": [
        {
          "output_type": "stream",
          "name": "stdout",
          "text": [
            "Uso de memoria: [1396.04296875, 1396.04296875, 1396.04296875, 1396.04296875, 1396.04296875, 1396.04296875, 1396.04296875, 1396.04296875, 1396.05859375, 1396.05859375, 1396.05859375, 1396.05859375, 1396.05859375, 1396.05859375, 1396.05859375, 1396.05859375, 1396.05859375, 1396.05859375, 1396.05859375, 1396.05859375, 1396.05859375, 1396.05859375, 1396.05859375, 1396.05859375, 1396.05859375, 1396.05859375, 1396.05859375, 1396.05859375, 1396.05859375, 1396.05859375, 1396.05859375, 1396.05859375, 1396.05859375, 1396.05859375, 1396.05859375, 1396.05859375, 1396.05859375, 1396.05859375, 1396.05859375, 1396.05859375, 1396.05859375, 1396.05859375, 1396.05859375, 1396.05859375, 1396.05859375, 1396.05859375, 1396.05859375, 1396.05859375, 1396.05859375, 1396.05859375, 1396.05859375, 1396.05859375, 1396.05859375, 1396.05859375, 1396.05859375, 1396.05859375, 1396.05859375, 1396.05859375, 1396.05859375, 1396.05859375, 1396.05859375, 1396.05859375, 1396.05859375, 1396.05859375, 1396.05859375, 1396.05859375, 1396.05859375, 1396.05859375, 1396.05859375, 1396.05859375, 1396.0625, 1396.0625, 1396.0625, 1396.0625, 1396.0625, 1396.0625, 1396.0625, 1396.0625, 1396.0625, 1396.0625, 1396.0625, 1396.0625, 1396.0625, 1396.0625, 1396.0625, 1396.0625, 1396.0625, 1396.0625, 1396.0625, 1396.0625, 1396.0625, 1396.0625, 1396.0625, 1396.0625, 1396.0625, 1396.0625, 1396.0625, 1396.0625, 1396.0625, 1396.0625, 1396.0625, 1396.0625, 1396.0625, 1396.0625, 1396.0625, 1396.0625, 1396.0625, 1396.0625, 1396.0625, 1396.0625, 1396.0625, 1396.0625, 1396.0625, 1396.0625, 1396.0625, 1396.0625, 1396.0625, 1396.0625, 1396.0625, 1396.0625, 1396.0625, 1396.0625, 1396.0625]\n"
          ]
        }
      ]
    },
    {
      "cell_type": "code",
      "source": [
        "# Medimos el uso de memoria de la función.\n",
        "mem_usage = memory_usage((q2_time, (local_path + '/' + file_name,)))\n",
        "print(f\"Uso de memoria: {mem_usage}\")"
      ],
      "metadata": {
        "colab": {
          "base_uri": "https://localhost:8080/"
        },
        "outputId": "9092b337-f7df-487b-da28-facabbbe13f5",
        "id": "WsZkTUXcqakI"
      },
      "execution_count": 17,
      "outputs": [
        {
          "output_type": "stream",
          "name": "stdout",
          "text": [
            "Uso de memoria: [1395.078125, 1395.078125, 1395.078125, 1395.078125, 1395.078125, 1395.078125, 1395.078125, 1395.078125, 1395.078125, 1395.078125, 1395.078125, 1395.078125, 1395.078125, 1395.078125, 1395.078125, 1395.078125, 1395.078125, 1395.078125, 1395.078125, 1395.078125, 1395.078125, 1395.078125, 1395.078125, 1395.078125, 1395.078125, 1395.078125, 1395.078125, 1395.078125, 1395.078125, 1395.078125, 1395.078125, 1395.078125, 1395.078125, 1395.078125, 1395.078125, 1395.078125, 1395.078125, 1395.078125, 1395.078125, 1395.078125, 1395.078125, 1395.078125, 1395.078125, 1395.078125, 1395.078125, 1395.078125, 1395.078125, 1395.078125, 1395.078125, 1395.078125, 1395.078125, 1395.078125, 1395.078125, 1395.078125, 1395.078125, 1395.078125, 1395.078125, 1395.078125, 1395.078125, 1395.078125, 1395.078125, 1395.078125, 1395.078125, 1395.078125, 1395.078125, 1395.078125, 1395.078125, 1395.078125, 1395.078125, 1395.078125, 1395.078125, 1395.078125, 1395.078125, 1395.078125, 1395.078125, 1395.078125, 1395.078125, 1395.078125, 1395.078125, 1395.078125, 1395.078125, 1395.078125, 1395.078125, 1395.078125, 1395.078125, 1395.078125, 1395.078125, 1395.078125, 1395.078125]\n"
          ]
        }
      ]
    },
    {
      "cell_type": "code",
      "source": [
        "# Medimos el tiempo de ejecución de la función.\n",
        "profiler = cProfile.Profile()\n",
        "\n",
        "profiler.enable()\n",
        "q2_memory(local_path + '/' + file_name)\n",
        "profiler.disable()\n",
        "\n",
        "stats = profiler.getstats()\n",
        "total_time = sum(stat.totaltime for stat in stats)\n",
        "print(\"Tiempo total:\", total_time)"
      ],
      "metadata": {
        "colab": {
          "base_uri": "https://localhost:8080/"
        },
        "outputId": "e7100fb7-5cd3-48dd-c624-6261dd3bb3c7",
        "id": "izWKKv9zqakJ"
      },
      "execution_count": 18,
      "outputs": [
        {
          "output_type": "stream",
          "name": "stdout",
          "text": [
            "Tiempo total: 70.045013981\n"
          ]
        }
      ]
    },
    {
      "cell_type": "code",
      "source": [
        "# Medimos el tiempo de ejecución de la función.\n",
        "profiler = cProfile.Profile()\n",
        "\n",
        "profiler.enable()\n",
        "q2_time(local_path + '/' + file_name)\n",
        "profiler.disable()\n",
        "\n",
        "stats = profiler.getstats()\n",
        "total_time = sum(stat.totaltime for stat in stats)\n",
        "print(\"Tiempo total:\", total_time)"
      ],
      "metadata": {
        "colab": {
          "base_uri": "https://localhost:8080/"
        },
        "outputId": "f0066154-f786-4ac8-f774-13de86ae7961",
        "id": "oIbOePy6qakK"
      },
      "execution_count": 19,
      "outputs": [
        {
          "output_type": "stream",
          "name": "stdout",
          "text": [
            "Tiempo total: 55.01850804400001\n"
          ]
        }
      ]
    },
    {
      "cell_type": "markdown",
      "source": [
        "### Query 3: top 10 de usuarios mencionados"
      ],
      "metadata": {
        "id": "NfB54sibqdI0"
      }
    },
    {
      "cell_type": "code",
      "source": [
        "# Medimos el uso de memoria de la función.\n",
        "mem_usage = memory_usage((q3_memory, (local_path + '/' + file_name,)))\n",
        "print(f\"Uso de memoria: {mem_usage}\")"
      ],
      "metadata": {
        "colab": {
          "base_uri": "https://localhost:8080/"
        },
        "outputId": "346f18de-a357-47aa-b269-b41423cb4c62",
        "id": "EtA_qPOkqdI1"
      },
      "execution_count": 20,
      "outputs": [
        {
          "output_type": "stream",
          "name": "stdout",
          "text": [
            "Uso de memoria: [1389.1953125, 1389.1953125, 1389.1953125, 1389.19921875, 1389.19921875, 1389.19921875, 1389.19921875, 1389.19921875, 1389.19921875, 1389.19921875, 1389.19921875, 1389.19921875, 1389.19921875, 1389.19921875, 1389.19921875, 1389.19921875, 1389.19921875, 1389.19921875, 1389.19921875, 1389.19921875, 1389.19921875, 1389.19921875, 1389.19921875, 1389.19921875, 1389.19921875, 1389.19921875, 1389.19921875, 1389.19921875, 1389.19921875, 1389.19921875, 1389.19921875, 1389.19921875, 1389.19921875, 1389.19921875, 1389.19921875, 1389.19921875, 1389.19921875, 1389.19921875, 1389.19921875, 1389.19921875, 1389.19921875, 1389.19921875, 1389.19921875, 1389.19921875, 1389.19921875, 1389.19921875, 1389.19921875, 1389.19921875, 1389.19921875, 1389.19921875, 1389.19921875, 1389.19921875, 1389.19921875, 1389.19921875, 1389.19921875, 1389.19921875, 1389.19921875, 1389.19921875, 1389.19921875, 1389.19921875, 1389.19921875, 1389.19921875, 1389.19921875, 1389.19921875, 1389.203125, 1389.203125, 1389.203125, 1389.203125, 1389.203125, 1389.203125, 1389.203125, 1389.203125, 1389.203125, 1389.203125]\n"
          ]
        }
      ]
    },
    {
      "cell_type": "code",
      "source": [
        "# Medimos el uso de memoria de la función.\n",
        "mem_usage = memory_usage((q3_time, (local_path + '/' + file_name,)))\n",
        "print(f\"Uso de memoria: {mem_usage}\")"
      ],
      "metadata": {
        "colab": {
          "base_uri": "https://localhost:8080/"
        },
        "outputId": "a35865d1-894b-47f5-bd4c-2024e4ce0f69",
        "id": "dtGY8FLKqdI1"
      },
      "execution_count": 21,
      "outputs": [
        {
          "output_type": "stream",
          "name": "stdout",
          "text": [
            "Uso de memoria: [1389.203125, 1389.203125, 1389.203125, 1389.203125, 1389.203125, 1389.203125, 1389.203125, 1389.203125, 1389.203125, 1389.203125, 1389.203125, 1389.203125, 1389.203125, 1389.203125, 1389.203125, 1389.203125, 1389.203125, 1389.203125, 1389.203125, 1389.203125, 1389.203125, 1389.203125, 1389.203125, 1389.203125, 1389.203125, 1389.203125, 1389.203125, 1389.203125, 1389.203125, 1389.203125, 1389.203125, 1389.203125, 1389.203125, 1389.203125, 1389.203125, 1389.203125, 1389.203125, 1389.203125, 1389.203125, 1389.203125, 1389.203125, 1389.203125, 1389.203125, 1389.203125, 1389.203125, 1389.203125, 1389.203125, 1389.203125, 1389.203125, 1389.20703125, 1389.20703125, 1389.20703125, 1389.20703125, 1389.20703125, 1389.20703125, 1389.20703125, 1389.20703125, 1389.20703125, 1389.20703125, 1389.20703125, 1389.20703125, 1389.20703125, 1389.20703125, 1389.20703125]\n"
          ]
        }
      ]
    },
    {
      "cell_type": "code",
      "source": [
        "# Medimos el tiempo de ejecución de la función.\n",
        "profiler = cProfile.Profile()\n",
        "\n",
        "profiler.enable()\n",
        "q3_memory(local_path + '/' + file_name)\n",
        "profiler.disable()\n",
        "\n",
        "stats = profiler.getstats()\n",
        "total_time = sum(stat.totaltime for stat in stats)\n",
        "print(\"Tiempo total:\", total_time)"
      ],
      "metadata": {
        "colab": {
          "base_uri": "https://localhost:8080/"
        },
        "outputId": "6d93440f-b78c-45ec-8538-acee701c185b",
        "id": "Q8MSuioDqdI1"
      },
      "execution_count": 22,
      "outputs": [
        {
          "output_type": "stream",
          "name": "stdout",
          "text": [
            "Tiempo total: 58.26754132300001\n"
          ]
        }
      ]
    },
    {
      "cell_type": "code",
      "source": [
        "# Medimos el tiempo de ejecución de la función.\n",
        "profiler = cProfile.Profile()\n",
        "\n",
        "profiler.enable()\n",
        "q3_time(local_path + '/' + file_name)\n",
        "profiler.disable()\n",
        "\n",
        "stats = profiler.getstats()\n",
        "total_time = sum(stat.totaltime for stat in stats)\n",
        "print(\"Tiempo total:\", total_time)"
      ],
      "metadata": {
        "colab": {
          "base_uri": "https://localhost:8080/"
        },
        "outputId": "6afbb070-abe8-492a-a881-e12a9a1aea49",
        "id": "_5oINbcDqdI2"
      },
      "execution_count": 23,
      "outputs": [
        {
          "output_type": "stream",
          "name": "stdout",
          "text": [
            "Tiempo total: 42.476555834\n"
          ]
        }
      ]
    },
    {
      "cell_type": "code",
      "source": [],
      "metadata": {
        "id": "IJVMZ-Lbq54Z"
      },
      "execution_count": null,
      "outputs": []
    }
  ]
}