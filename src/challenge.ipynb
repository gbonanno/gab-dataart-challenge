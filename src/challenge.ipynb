{
  "nbformat": 4,
  "nbformat_minor": 0,
  "metadata": {
    "colab": {
      "provenance": [],
      "authorship_tag": "ABX9TyPLIpNfVmrBRJn5cd5gbFql",
      "include_colab_link": true
    },
    "kernelspec": {
      "name": "python3",
      "display_name": "Python 3"
    },
    "language_info": {
      "name": "python"
    }
  },
  "cells": [
    {
      "cell_type": "markdown",
      "metadata": {
        "id": "view-in-github",
        "colab_type": "text"
      },
      "source": [
        "<a href=\"https://colab.research.google.com/github/gbonanno/gab-dataart-challenge/blob/developer-gbonanno/src/challenge.ipynb\" target=\"_parent\"><img src=\"https://colab.research.google.com/assets/colab-badge.svg\" alt=\"Open In Colab\"/></a>"
      ]
    },
    {
      "cell_type": "markdown",
      "source": [
        "# Data Engineer Challenge"
      ],
      "metadata": {
        "id": "6tM2Mu6-H4qD"
      }
    },
    {
      "cell_type": "markdown",
      "source": [
        "En este archivo puedes escribir lo que estimes conveniente. Te recomendamos detallar tu solución y todas las suposiciones que estás considerando. Aquí puedes ejecutar las funciones que definiste en los otros archivos de la carpeta src, medir el tiempo, memoria, etc."
      ],
      "metadata": {
        "id": "vz3gnjcWH0h7"
      }
    },
    {
      "cell_type": "markdown",
      "source": [
        "## Imports and initial settings"
      ],
      "metadata": {
        "id": "W4a-gbaeQFSa"
      }
    },
    {
      "cell_type": "code",
      "source": [
        "pip install emoji"
      ],
      "metadata": {
        "colab": {
          "base_uri": "https://localhost:8080/"
        },
        "id": "rkA9bxYHFX0s",
        "outputId": "f61f9927-662f-46a8-a025-58b5d06f903b"
      },
      "execution_count": 2,
      "outputs": [
        {
          "output_type": "stream",
          "name": "stdout",
          "text": [
            "Collecting emoji\n",
            "  Downloading emoji-2.12.1-py3-none-any.whl (431 kB)\n",
            "\u001b[2K     \u001b[90m━━━━━━━━━━━━━━━━━━━━━━━━━━━━━━━━━━━━━━━━\u001b[0m \u001b[32m431.4/431.4 kB\u001b[0m \u001b[31m5.2 MB/s\u001b[0m eta \u001b[36m0:00:00\u001b[0m\n",
            "\u001b[?25hRequirement already satisfied: typing-extensions>=4.7.0 in /usr/local/lib/python3.10/dist-packages (from emoji) (4.11.0)\n",
            "Installing collected packages: emoji\n",
            "Successfully installed emoji-2.12.1\n"
          ]
        }
      ]
    },
    {
      "cell_type": "code",
      "source": [
        "pip install memory_profiler"
      ],
      "metadata": {
        "colab": {
          "base_uri": "https://localhost:8080/"
        },
        "id": "Egqox0VsLZKP",
        "outputId": "90e732ba-ccba-4d4b-e64c-ee74382b39c4"
      },
      "execution_count": 3,
      "outputs": [
        {
          "output_type": "stream",
          "name": "stdout",
          "text": [
            "Collecting memory_profiler\n",
            "  Downloading memory_profiler-0.61.0-py3-none-any.whl (31 kB)\n",
            "Requirement already satisfied: psutil in /usr/local/lib/python3.10/dist-packages (from memory_profiler) (5.9.5)\n",
            "Installing collected packages: memory_profiler\n",
            "Successfully installed memory_profiler-0.61.0\n"
          ]
        }
      ]
    },
    {
      "cell_type": "code",
      "execution_count": 13,
      "metadata": {
        "id": "GrFP34CgJQY4"
      },
      "outputs": [],
      "source": [
        "# Imports\n",
        "import pandas\n",
        "import os\n",
        "import json\n",
        "import re\n",
        "import emoji\n",
        "from google.colab import drive\n",
        "import gdown\n",
        "import zipfile\n",
        "from collections import defaultdict\n",
        "import importlib.util\n",
        "import sys\n",
        "from memory_profiler import memory_usage\n",
        "import cProfile"
      ]
    },
    {
      "cell_type": "code",
      "source": [
        "# Replace 'FILE_ID' with the actual file ID from the Google Drive link\n",
        "file_id = '1ig2ngoXFTxP5Pa8muXo02mDTFexZzsis'\n",
        "file_path_zip = 'farmers-protest-tweets-2021-2-4.json.zip'\n",
        "file_name = 'farmers-protest-tweets-2021-2-4.json'\n",
        "local_path = '.'\n",
        "\n",
        "gdown.download(f'https://drive.google.com/uc?id={file_id}', file_path_zip, quiet=False)"
      ],
      "metadata": {
        "colab": {
          "base_uri": "https://localhost:8080/",
          "height": 145
        },
        "id": "VprFcJUdNy10",
        "outputId": "37d00c0c-d9a7-4a6b-b369-a49f54690ee5"
      },
      "execution_count": 19,
      "outputs": [
        {
          "output_type": "stream",
          "name": "stderr",
          "text": [
            "Downloading...\n",
            "From (original): https://drive.google.com/uc?id=1ig2ngoXFTxP5Pa8muXo02mDTFexZzsis\n",
            "From (redirected): https://drive.google.com/uc?id=1ig2ngoXFTxP5Pa8muXo02mDTFexZzsis&confirm=t&uuid=1f368019-88c0-4de2-829a-72c8ba6beb85\n",
            "To: /content/farmers-protest-tweets-2021-2-4.json.zip\n",
            "100%|██████████| 60.4M/60.4M [00:00<00:00, 96.8MB/s]\n"
          ]
        },
        {
          "output_type": "execute_result",
          "data": {
            "text/plain": [
              "'farmers-protest-tweets-2021-2-4.json.zip'"
            ],
            "application/vnd.google.colaboratory.intrinsic+json": {
              "type": "string"
            }
          },
          "metadata": {},
          "execution_count": 19
        }
      ]
    },
    {
      "cell_type": "code",
      "source": [
        "# Descomprimir archivo\n",
        "with zipfile.ZipFile(file_path_zip, 'r') as zip_ref:\n",
        "    zip_ref.extractall(local_path)"
      ],
      "metadata": {
        "id": "jvquO5M2O8rY"
      },
      "execution_count": 20,
      "outputs": []
    },
    {
      "cell_type": "code",
      "source": [
        "# Se abre el archivo\n",
        "fp = open(local_path + '/' + file_name, 'r+')"
      ],
      "metadata": {
        "id": "5jGr_HoJPTFm"
      },
      "execution_count": 22,
      "outputs": []
    },
    {
      "cell_type": "code",
      "source": [
        "# Se bajan los tweets\n",
        "# ENHANCEMENT - Extraer sólo los campos necesarios: date, user.username, content, mentionedUsers.username\n",
        "tweets = []\n",
        "for line in fp:\n",
        "  tweets.append(json.loads(line))"
      ],
      "metadata": {
        "id": "X5jm3X9SkokT"
      },
      "execution_count": 23,
      "outputs": []
    },
    {
      "cell_type": "code",
      "source": [
        "# Revisar cuántos tweets son\n",
        "len(tweets)"
      ],
      "metadata": {
        "colab": {
          "base_uri": "https://localhost:8080/"
        },
        "id": "ZrkitxvZZogj",
        "outputId": "391846a1-fda3-4008-a3b5-c57adc36ca3d"
      },
      "execution_count": 24,
      "outputs": [
        {
          "output_type": "execute_result",
          "data": {
            "text/plain": [
              "117407"
            ]
          },
          "metadata": {},
          "execution_count": 24
        }
      ]
    },
    {
      "cell_type": "code",
      "source": [
        "# Imprimir un tweet para revisar el formato\n",
        "line_json = json.loads(line)\n",
        "print(json.dumps(line_json, indent=4))"
      ],
      "metadata": {
        "colab": {
          "base_uri": "https://localhost:8080/"
        },
        "id": "QAWUpAaJbazO",
        "outputId": "8bee0bad-4743-435d-b778-d4f4ae3b5b9a"
      },
      "execution_count": 25,
      "outputs": [
        {
          "output_type": "stream",
          "name": "stdout",
          "text": [
            "{\n",
            "    \"url\": \"https://twitter.com/SikhVibes/status/1360040127146430470\",\n",
            "    \"date\": \"2021-02-12T01:36:49+00:00\",\n",
            "    \"content\": \"@Kisanektamorcha We are with you, keep the morcha alive and strong \\ud83d\\udcaa #FarmersProtest #MahapanchayatRevolution\",\n",
            "    \"renderedContent\": \"@Kisanektamorcha We are with you, keep the morcha alive and strong \\ud83d\\udcaa #FarmersProtest #MahapanchayatRevolution\",\n",
            "    \"id\": 1360040127146430470,\n",
            "    \"user\": {\n",
            "        \"username\": \"SikhVibes\",\n",
            "        \"displayname\": \"SikhVibes\",\n",
            "        \"id\": 1568618503,\n",
            "        \"description\": \"SikhVibes.com is a premium Sikh Multimedia website with thousands of rare Audio Recordings, Videos and Katha from all over the world!\",\n",
            "        \"rawDescription\": \"https://t.co/YWcGuzCBWn is a premium Sikh Multimedia website with thousands of rare Audio Recordings, Videos and Katha from all over the world!\",\n",
            "        \"descriptionUrls\": [\n",
            "            {\n",
            "                \"text\": \"SikhVibes.com\",\n",
            "                \"url\": \"http://SikhVibes.com\",\n",
            "                \"tcourl\": \"https://t.co/YWcGuzCBWn\",\n",
            "                \"indices\": [\n",
            "                    0,\n",
            "                    23\n",
            "                ]\n",
            "            }\n",
            "        ],\n",
            "        \"verified\": false,\n",
            "        \"created\": \"2013-07-04T16:50:42+00:00\",\n",
            "        \"followersCount\": 853,\n",
            "        \"friendsCount\": 390,\n",
            "        \"statusesCount\": 1090,\n",
            "        \"favouritesCount\": 764,\n",
            "        \"listedCount\": 2,\n",
            "        \"mediaCount\": 442,\n",
            "        \"location\": \"Toronto, Canada\",\n",
            "        \"protected\": false,\n",
            "        \"linkUrl\": \"https://linktr.ee/SikhVibes\",\n",
            "        \"linkTcourl\": \"https://t.co/3Vm6WLfyYP\",\n",
            "        \"profileImageUrl\": \"https://pbs.twimg.com/profile_images/1311151305008787456/-JHIizir_normal.jpg\",\n",
            "        \"profileBannerUrl\": \"https://pbs.twimg.com/profile_banners/1568618503/1612464423\",\n",
            "        \"url\": \"https://twitter.com/SikhVibes\"\n",
            "    },\n",
            "    \"outlinks\": [],\n",
            "    \"tcooutlinks\": [],\n",
            "    \"replyCount\": 2,\n",
            "    \"retweetCount\": 19,\n",
            "    \"likeCount\": 23,\n",
            "    \"quoteCount\": 2,\n",
            "    \"conversationId\": 1360038291471388672,\n",
            "    \"lang\": \"en\",\n",
            "    \"source\": \"<a href=\\\"http://twitter.com/download/iphone\\\" rel=\\\"nofollow\\\">Twitter for iPhone</a>\",\n",
            "    \"sourceUrl\": \"http://twitter.com/download/iphone\",\n",
            "    \"sourceLabel\": \"Twitter for iPhone\",\n",
            "    \"media\": null,\n",
            "    \"retweetedTweet\": null,\n",
            "    \"quotedTweet\": null,\n",
            "    \"mentionedUsers\": [\n",
            "        {\n",
            "            \"username\": \"Kisanektamorcha\",\n",
            "            \"displayname\": \"Kisan Ekta Morcha\",\n",
            "            \"id\": 1338536920066879488,\n",
            "            \"description\": null,\n",
            "            \"rawDescription\": null,\n",
            "            \"descriptionUrls\": null,\n",
            "            \"verified\": null,\n",
            "            \"created\": null,\n",
            "            \"followersCount\": null,\n",
            "            \"friendsCount\": null,\n",
            "            \"statusesCount\": null,\n",
            "            \"favouritesCount\": null,\n",
            "            \"listedCount\": null,\n",
            "            \"mediaCount\": null,\n",
            "            \"location\": null,\n",
            "            \"protected\": null,\n",
            "            \"linkUrl\": null,\n",
            "            \"linkTcourl\": null,\n",
            "            \"profileImageUrl\": null,\n",
            "            \"profileBannerUrl\": null,\n",
            "            \"url\": \"https://twitter.com/Kisanektamorcha\"\n",
            "        }\n",
            "    ]\n",
            "}\n"
          ]
        }
      ]
    },
    {
      "cell_type": "markdown",
      "source": [
        "## Define function to get emojis"
      ],
      "metadata": {
        "id": "AfayDeirQJKD"
      }
    },
    {
      "cell_type": "code",
      "source": [
        "# String de testing\n",
        "string_aux = \"#FarmersProtest \\n#ModiIgnoringFarmersDeaths \\n#ModiDontSellFarmers \\n@Kisanektamorcha \\nFarmers constantly distroying crops throughout India. \\nReally, it's hearts breaking...we care about our crops like our children. And govt. agriculture minister is laughing on us🚜🌾WE WILL WIN💪 🚜 https://t.co/kLspngG9xE\"\n",
        "string_aux"
      ],
      "metadata": {
        "colab": {
          "base_uri": "https://localhost:8080/",
          "height": 71
        },
        "id": "-yyzaBRUCTGE",
        "outputId": "d9ebab62-341f-4894-c487-1cb216ecb1f8"
      },
      "execution_count": 26,
      "outputs": [
        {
          "output_type": "execute_result",
          "data": {
            "text/plain": [
              "\"#FarmersProtest \\n#ModiIgnoringFarmersDeaths \\n#ModiDontSellFarmers \\n@Kisanektamorcha \\nFarmers constantly distroying crops throughout India. \\nReally, it's hearts breaking...we care about our crops like our children. And govt. agriculture minister is laughing on us🚜🌾WE WILL WIN💪 🚜 https://t.co/kLspngG9xE\""
            ],
            "application/vnd.google.colaboratory.intrinsic+json": {
              "type": "string"
            }
          },
          "metadata": {},
          "execution_count": 26
        }
      ]
    },
    {
      "cell_type": "code",
      "source": [
        "# Se define la primera versión de la función usando una regex.\n",
        "# ISSUE: si dos emojis están contiguos (sin ningún caracter en el medio), lo considera un sólo emoji.\n",
        "def extract_emojis(text):\n",
        "  emoji_pattern = re.compile(\n",
        "    \"[\"\n",
        "    u\"\\U0001F600-\\U0001F64F\"  # emoticons\n",
        "    u\"\\U0001F300-\\U0001F5FF\"  # symbols & pictographs\n",
        "    u\"\\U0001F680-\\U0001F6FF\"  # transport & map symbols\n",
        "    u\"\\U0001F1E0-\\U0001F1FF\"  # flags (iOS)\n",
        "    u\"\\U00002702-\\U000027B0\"  # Dingbats\n",
        "    u\"\\U000024C2-\\U0001F251\"  # Enclosed characters\n",
        "    u\"\\U0001F900-\\U0001F9FF\"  # Supplemental Symbols and Pictographs\n",
        "    u\"\\U0001FA70-\\U0001FAFF\"  # Symbols and Pictographs Extended-A\n",
        "    \"]+\",\n",
        "    flags=re.UNICODE\n",
        "  )\n",
        "  return emoji_pattern.findall(text)"
      ],
      "metadata": {
        "id": "1ecMQ0kQC0Fa"
      },
      "execution_count": 27,
      "outputs": []
    },
    {
      "cell_type": "code",
      "source": [
        "# Probamos la función con el ejemplo.\n",
        "extract_emojis(string_aux)"
      ],
      "metadata": {
        "colab": {
          "base_uri": "https://localhost:8080/"
        },
        "id": "l8av6n0NQ306",
        "outputId": "3211bd7f-71b0-4198-c7ec-6fc7cfca6307"
      },
      "execution_count": 28,
      "outputs": [
        {
          "output_type": "execute_result",
          "data": {
            "text/plain": [
              "['🚜🌾', '💪', '🚜']"
            ]
          },
          "metadata": {},
          "execution_count": 28
        }
      ]
    },
    {
      "cell_type": "code",
      "source": [
        "# Se define la segunda versión (por ahora la final) de la función usando la librería emoji.\n",
        "# Esta función además cuenta cuántas veces aparece el emoji.\n",
        "def extract_emojis2(text):\n",
        "  emoji_count = defaultdict(int)\n",
        "  for char in text:\n",
        "    if char in emoji.EMOJI_DATA:\n",
        "      emoji_count[char] += 1\n",
        "  return emoji_count"
      ],
      "metadata": {
        "id": "_2Ropk6jFjIs"
      },
      "execution_count": 29,
      "outputs": []
    },
    {
      "cell_type": "code",
      "source": [
        "# Probamos la función con el ejemplo.\n",
        "extract_emojis2(string_aux)"
      ],
      "metadata": {
        "colab": {
          "base_uri": "https://localhost:8080/"
        },
        "id": "KysTuXYfFl1U",
        "outputId": "c95f5f6d-cff3-4b23-fbe7-a302041f6566"
      },
      "execution_count": 30,
      "outputs": [
        {
          "output_type": "execute_result",
          "data": {
            "text/plain": [
              "defaultdict(int, {'🚜': 2, '🌾': 1, '💪': 1})"
            ]
          },
          "metadata": {},
          "execution_count": 30
        }
      ]
    },
    {
      "cell_type": "markdown",
      "source": [
        "## Memory usage and execution time"
      ],
      "metadata": {
        "id": "dZyS6fTMRPYg"
      }
    },
    {
      "cell_type": "code",
      "source": [
        "# Medimos el uso de memoria de la función.\n",
        "mem_usage = memory_usage((extract_emojis2, (string_aux,)))\n",
        "print(f\"Uso de memoria: {mem_usage}\")"
      ],
      "metadata": {
        "colab": {
          "base_uri": "https://localhost:8080/"
        },
        "id": "CPTVxA-GEAyk",
        "outputId": "cdf8941b-7399-4eaf-b60e-0abdbba21e9c"
      },
      "execution_count": 31,
      "outputs": [
        {
          "output_type": "stream",
          "name": "stdout",
          "text": [
            "Memory usage: [1347.41015625, 1347.41015625, 1347.41015625]\n"
          ]
        }
      ]
    },
    {
      "cell_type": "code",
      "source": [
        "# Medimos el tiempo de ejecución de la función.\n",
        "cProfile.run('extract_emojis2(string_aux)')"
      ],
      "metadata": {
        "colab": {
          "base_uri": "https://localhost:8080/"
        },
        "id": "7LwKTFqZKxwe",
        "outputId": "59f47269-060e-4e7d-c9ac-bb295da597ba"
      },
      "execution_count": 32,
      "outputs": [
        {
          "output_type": "stream",
          "name": "stdout",
          "text": [
            "         4 function calls in 0.000 seconds\n",
            "\n",
            "   Ordered by: standard name\n",
            "\n",
            "   ncalls  tottime  percall  cumtime  percall filename:lineno(function)\n",
            "        1    0.000    0.000    0.000    0.000 <ipython-input-29-b73180df06de>:3(extract_emojis2)\n",
            "        1    0.000    0.000    0.000    0.000 <string>:1(<module>)\n",
            "        1    0.000    0.000    0.000    0.000 {built-in method builtins.exec}\n",
            "        1    0.000    0.000    0.000    0.000 {method 'disable' of '_lsprof.Profiler' objects}\n",
            "\n",
            "\n"
          ]
        }
      ]
    },
    {
      "cell_type": "markdown",
      "source": [
        "## Get functions from GitHub"
      ],
      "metadata": {
        "id": "OA1uquFqjudr"
      }
    },
    {
      "cell_type": "code",
      "source": [
        "# Descargar las funciones desde GitHub\n",
        "drive.mount('/content/drive')\n",
        "!git clone https://github.com/gbonanno/gab-dataart-challenge.git"
      ],
      "metadata": {
        "colab": {
          "base_uri": "https://localhost:8080/"
        },
        "id": "cviYTw2nGMcJ",
        "outputId": "270ce6e9-7f90-4555-ca8b-ee8c9868f7cb"
      },
      "execution_count": 33,
      "outputs": [
        {
          "output_type": "stream",
          "name": "stdout",
          "text": [
            "Mounted at /content/drive\n",
            "Cloning into 'gab-dataart-challenge'...\n",
            "remote: Enumerating objects: 20, done.\u001b[K\n",
            "remote: Counting objects: 100% (20/20), done.\u001b[K\n",
            "remote: Compressing objects: 100% (19/19), done.\u001b[K\n",
            "remote: Total 20 (delta 6), reused 0 (delta 0), pack-reused 0\u001b[K\n",
            "Receiving objects: 100% (20/20), 572.56 KiB | 1.74 MiB/s, done.\n",
            "Resolving deltas: 100% (6/6), done.\n"
          ]
        }
      ]
    },
    {
      "cell_type": "code",
      "source": [
        "# Leer las funciones y ejecutarlas\n",
        "module_path = './gab-dataart-challenge/src/'\n",
        "module_name1 = 'q1_memory'\n",
        "module_name2 = 'q1_time'\n",
        "module_name3 = 'q2_memory'\n",
        "module_name4 = 'q2_time'\n",
        "module_name5 = 'q3_memory'\n",
        "module_name6 = 'q3_time'\n",
        "\n",
        "# Cargar módulos\n",
        "spec_q1_memory = importlib.util.spec_from_file_location(module_name1, module_path + module_name1 + '.py')\n",
        "module_q1_memory = importlib.util.module_from_spec(spec_q1_memory)\n",
        "sys.modules[module_name1] = module_q1_memory\n",
        "spec_q1_memory.loader.exec_module(module_q1_memory)\n",
        "\n",
        "spec_q1_time = importlib.util.spec_from_file_location(module_name2, module_path + module_name2 + '.py')\n",
        "module_q1_time = importlib.util.module_from_spec(spec_q1_time)\n",
        "sys.modules[module_name2] = module_q1_time\n",
        "spec_q1_time.loader.exec_module(module_q1_time)\n",
        "\n",
        "spec_q2_memory = importlib.util.spec_from_file_location(module_name3, module_path + module_name3 + '.py')\n",
        "module_q2_memory = importlib.util.module_from_spec(spec_q2_memory)\n",
        "sys.modules[module_name3] = module_q2_memory\n",
        "spec_q2_memory.loader.exec_module(module_q2_memory)\n",
        "\n",
        "spec_q2_time = importlib.util.spec_from_file_location(module_name4, module_path + module_name4 + '.py')\n",
        "module_q2_time = importlib.util.module_from_spec(spec_q2_time)\n",
        "sys.modules[module_name4] = module_q2_time\n",
        "spec_q2_time.loader.exec_module(module_q2_time)\n",
        "\n",
        "spec_q3_memory = importlib.util.spec_from_file_location(module_name5, module_path + module_name5 + '.py')\n",
        "module_q3_memory = importlib.util.module_from_spec(spec_q3_memory)\n",
        "sys.modules[module_name5] = module_q3_memory\n",
        "spec_q3_memory.loader.exec_module(module_q3_memory)\n",
        "\n",
        "spec_q3_time = importlib.util.spec_from_file_location(module_name6, module_path + module_name6 + '.py')\n",
        "module_q3_time = importlib.util.module_from_spec(spec_q3_time)\n",
        "sys.modules[module_name6] = module_q3_time\n",
        "spec_q3_time.loader.exec_module(module_q3_time)\n",
        "\n",
        "# Cargar las funciones desde los módulos\n",
        "q1_memory = module_q1_memory.q1_memory\n",
        "q1_time = module_q1_time.q1_time\n",
        "q2_memory = module_q2_memory.q2_memory\n",
        "q2_time = module_q2_time.q2_time\n",
        "q3_memory = module_q3_memory.q3_memory\n",
        "q3_time = module_q3_time.q3_time"
      ],
      "metadata": {
        "id": "JyB_Qo76eclB"
      },
      "execution_count": 41,
      "outputs": []
    },
    {
      "cell_type": "code",
      "source": [
        "# Llamada a la función 1\n",
        "q1_memory(local_path + '/' + file_name)"
      ],
      "metadata": {
        "id": "WWpJpOOBl4E3"
      },
      "execution_count": 42,
      "outputs": []
    },
    {
      "cell_type": "code",
      "source": [],
      "metadata": {
        "id": "2uhiAlkLe8Ac"
      },
      "execution_count": null,
      "outputs": []
    }
  ]
}